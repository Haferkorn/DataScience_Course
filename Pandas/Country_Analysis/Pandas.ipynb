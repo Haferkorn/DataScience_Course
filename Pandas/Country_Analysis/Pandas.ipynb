{
  "nbformat": 4,
  "nbformat_minor": 0,
  "metadata": {
    "colab": {
      "name": "Pandas.ipynb",
      "provenance": []
    },
    "kernelspec": {
      "name": "python3",
      "display_name": "Python 3"
    },
    "language_info": {
      "name": "python"
    }
  },
  "cells": [
    {
      "cell_type": "markdown",
      "metadata": {
        "id": "2ZdSrQWfTPJC"
      },
      "source": [
        "# Country Analysis "
      ]
    },
    {
      "cell_type": "markdown",
      "metadata": {
        "id": "jiV88mQ6RDTV"
      },
      "source": [
        "Get Started - Import Pandas and numpy \n",
        "\n"
      ]
    },
    {
      "cell_type": "code",
      "metadata": {
        "id": "mRc5TKmMPwXl"
      },
      "source": [
        "import numpy as np\n",
        "import pandas as pd"
      ],
      "execution_count": null,
      "outputs": []
    },
    {
      "cell_type": "markdown",
      "metadata": {
        "id": "DS6DzVIHRLiB"
      },
      "source": [
        "Import the Data from csv via Github "
      ]
    },
    {
      "cell_type": "code",
      "metadata": {
        "id": "nJI8d9vnRN7Q"
      },
      "source": [
        "df = pd.read_csv('https://raw.githubusercontent.com/Haferkorn/eternalrepo/master/DS-WAHLFACH/countries.csv')"
      ],
      "execution_count": null,
      "outputs": []
    },
    {
      "cell_type": "markdown",
      "metadata": {
        "id": "oFoHWso_Sx8q"
      },
      "source": [
        "Look at the Data: "
      ]
    },
    {
      "cell_type": "code",
      "metadata": {
        "colab": {
          "base_uri": "https://localhost:8080/",
          "height": 204
        },
        "id": "qj1decB6S3oL",
        "outputId": "94d4068f-19c5-4087-8001-cfbfaa05827d"
      },
      "source": [
        "df.head()"
      ],
      "execution_count": null,
      "outputs": [
        {
          "output_type": "execute_result",
          "data": {
            "text/html": [
              "<div>\n",
              "<style scoped>\n",
              "    .dataframe tbody tr th:only-of-type {\n",
              "        vertical-align: middle;\n",
              "    }\n",
              "\n",
              "    .dataframe tbody tr th {\n",
              "        vertical-align: top;\n",
              "    }\n",
              "\n",
              "    .dataframe thead th {\n",
              "        text-align: right;\n",
              "    }\n",
              "</style>\n",
              "<table border=\"1\" class=\"dataframe\">\n",
              "  <thead>\n",
              "    <tr style=\"text-align: right;\">\n",
              "      <th></th>\n",
              "      <th>Name</th>\n",
              "      <th>People</th>\n",
              "      <th>Area</th>\n",
              "      <th>BIP</th>\n",
              "      <th>Currency</th>\n",
              "    </tr>\n",
              "  </thead>\n",
              "  <tbody>\n",
              "    <tr>\n",
              "      <th>0</th>\n",
              "      <td>Germany</td>\n",
              "      <td>82521653</td>\n",
              "      <td>357385</td>\n",
              "      <td>3466</td>\n",
              "      <td>EUR</td>\n",
              "    </tr>\n",
              "    <tr>\n",
              "      <th>1</th>\n",
              "      <td>Japan</td>\n",
              "      <td>126045000</td>\n",
              "      <td>377835</td>\n",
              "      <td>4938</td>\n",
              "      <td>YEN</td>\n",
              "    </tr>\n",
              "    <tr>\n",
              "      <th>2</th>\n",
              "      <td>Canada</td>\n",
              "      <td>36503097</td>\n",
              "      <td>9984670</td>\n",
              "      <td>1529</td>\n",
              "      <td>CAD</td>\n",
              "    </tr>\n",
              "    <tr>\n",
              "      <th>3</th>\n",
              "      <td>Italy</td>\n",
              "      <td>60501718</td>\n",
              "      <td>301338</td>\n",
              "      <td>1850</td>\n",
              "      <td>EUR</td>\n",
              "    </tr>\n",
              "    <tr>\n",
              "      <th>4</th>\n",
              "      <td>Brazilia</td>\n",
              "      <td>208360000</td>\n",
              "      <td>8515770</td>\n",
              "      <td>1798</td>\n",
              "      <td>REAL</td>\n",
              "    </tr>\n",
              "  </tbody>\n",
              "</table>\n",
              "</div>"
            ],
            "text/plain": [
              "       Name     People     Area   BIP Currency\n",
              "0   Germany   82521653   357385  3466      EUR\n",
              "1     Japan  126045000   377835  4938      YEN\n",
              "2    Canada   36503097  9984670  1529      CAD\n",
              "3     Italy   60501718   301338  1850      EUR\n",
              "4  Brazilia  208360000  8515770  1798     REAL"
            ]
          },
          "metadata": {
            "tags": []
          },
          "execution_count": 119
        }
      ]
    },
    {
      "cell_type": "markdown",
      "metadata": {
        "id": "1OjrU1z0TphF"
      },
      "source": [
        "Some basic information as **rows**, **columns** and some **basic statistical** info."
      ]
    },
    {
      "cell_type": "code",
      "metadata": {
        "colab": {
          "base_uri": "https://localhost:8080/"
        },
        "id": "VwveId5hTyyD",
        "outputId": "e6c21ee8-c124-459c-f5a3-389a18e013e6"
      },
      "source": [
        "df.shape #how many rows and columns "
      ],
      "execution_count": null,
      "outputs": [
        {
          "output_type": "execute_result",
          "data": {
            "text/plain": [
              "(5, 5)"
            ]
          },
          "metadata": {
            "tags": []
          },
          "execution_count": 7
        }
      ]
    },
    {
      "cell_type": "code",
      "metadata": {
        "colab": {
          "base_uri": "https://localhost:8080/",
          "height": 297
        },
        "id": "ivw-i5RnUB0d",
        "outputId": "13b8bece-b6a7-4e88-fb45-647320187f4d"
      },
      "source": [
        "df.describe() #Basic statistical information "
      ],
      "execution_count": null,
      "outputs": [
        {
          "output_type": "execute_result",
          "data": {
            "text/html": [
              "<div>\n",
              "<style scoped>\n",
              "    .dataframe tbody tr th:only-of-type {\n",
              "        vertical-align: middle;\n",
              "    }\n",
              "\n",
              "    .dataframe tbody tr th {\n",
              "        vertical-align: top;\n",
              "    }\n",
              "\n",
              "    .dataframe thead th {\n",
              "        text-align: right;\n",
              "    }\n",
              "</style>\n",
              "<table border=\"1\" class=\"dataframe\">\n",
              "  <thead>\n",
              "    <tr style=\"text-align: right;\">\n",
              "      <th></th>\n",
              "      <th>People</th>\n",
              "      <th>Area</th>\n",
              "      <th>BIP</th>\n",
              "    </tr>\n",
              "  </thead>\n",
              "  <tbody>\n",
              "    <tr>\n",
              "      <th>count</th>\n",
              "      <td>5.000000e+00</td>\n",
              "      <td>5.000000e+00</td>\n",
              "      <td>5.00000</td>\n",
              "    </tr>\n",
              "    <tr>\n",
              "      <th>mean</th>\n",
              "      <td>1.027863e+08</td>\n",
              "      <td>3.907400e+06</td>\n",
              "      <td>2716.20000</td>\n",
              "    </tr>\n",
              "    <tr>\n",
              "      <th>std</th>\n",
              "      <td>6.759970e+07</td>\n",
              "      <td>4.904957e+06</td>\n",
              "      <td>1457.86083</td>\n",
              "    </tr>\n",
              "    <tr>\n",
              "      <th>min</th>\n",
              "      <td>3.650310e+07</td>\n",
              "      <td>3.013380e+05</td>\n",
              "      <td>1529.00000</td>\n",
              "    </tr>\n",
              "    <tr>\n",
              "      <th>25%</th>\n",
              "      <td>6.050172e+07</td>\n",
              "      <td>3.573850e+05</td>\n",
              "      <td>1798.00000</td>\n",
              "    </tr>\n",
              "    <tr>\n",
              "      <th>50%</th>\n",
              "      <td>8.252165e+07</td>\n",
              "      <td>3.778350e+05</td>\n",
              "      <td>1850.00000</td>\n",
              "    </tr>\n",
              "    <tr>\n",
              "      <th>75%</th>\n",
              "      <td>1.260450e+08</td>\n",
              "      <td>8.515770e+06</td>\n",
              "      <td>3466.00000</td>\n",
              "    </tr>\n",
              "    <tr>\n",
              "      <th>max</th>\n",
              "      <td>2.083600e+08</td>\n",
              "      <td>9.984670e+06</td>\n",
              "      <td>4938.00000</td>\n",
              "    </tr>\n",
              "  </tbody>\n",
              "</table>\n",
              "</div>"
            ],
            "text/plain": [
              "             People          Area         BIP\n",
              "count  5.000000e+00  5.000000e+00     5.00000\n",
              "mean   1.027863e+08  3.907400e+06  2716.20000\n",
              "std    6.759970e+07  4.904957e+06  1457.86083\n",
              "min    3.650310e+07  3.013380e+05  1529.00000\n",
              "25%    6.050172e+07  3.573850e+05  1798.00000\n",
              "50%    8.252165e+07  3.778350e+05  1850.00000\n",
              "75%    1.260450e+08  8.515770e+06  3466.00000\n",
              "max    2.083600e+08  9.984670e+06  4938.00000"
            ]
          },
          "metadata": {
            "tags": []
          },
          "execution_count": 8
        }
      ]
    },
    {
      "cell_type": "markdown",
      "metadata": {
        "id": "i0P7myVAUPQB"
      },
      "source": [
        "Show all the row of countries who have the EURO"
      ]
    },
    {
      "cell_type": "code",
      "metadata": {
        "colab": {
          "base_uri": "https://localhost:8080/",
          "height": 111
        },
        "id": "6qoBDHU0UUi7",
        "outputId": "68ccd08e-8312-47f5-a36e-774dc0f2eb43"
      },
      "source": [
        "df[df[\"Currency\"]==\"EUR\"]\n",
        "\n"
      ],
      "execution_count": null,
      "outputs": [
        {
          "output_type": "execute_result",
          "data": {
            "text/html": [
              "<div>\n",
              "<style scoped>\n",
              "    .dataframe tbody tr th:only-of-type {\n",
              "        vertical-align: middle;\n",
              "    }\n",
              "\n",
              "    .dataframe tbody tr th {\n",
              "        vertical-align: top;\n",
              "    }\n",
              "\n",
              "    .dataframe thead th {\n",
              "        text-align: right;\n",
              "    }\n",
              "</style>\n",
              "<table border=\"1\" class=\"dataframe\">\n",
              "  <thead>\n",
              "    <tr style=\"text-align: right;\">\n",
              "      <th></th>\n",
              "      <th>Name</th>\n",
              "      <th>People</th>\n",
              "      <th>Area</th>\n",
              "      <th>BIP</th>\n",
              "      <th>Currency</th>\n",
              "    </tr>\n",
              "  </thead>\n",
              "  <tbody>\n",
              "    <tr>\n",
              "      <th>0</th>\n",
              "      <td>Germany</td>\n",
              "      <td>82521653</td>\n",
              "      <td>357385</td>\n",
              "      <td>3466</td>\n",
              "      <td>EUR</td>\n",
              "    </tr>\n",
              "    <tr>\n",
              "      <th>3</th>\n",
              "      <td>Italy</td>\n",
              "      <td>60501718</td>\n",
              "      <td>301338</td>\n",
              "      <td>1850</td>\n",
              "      <td>EUR</td>\n",
              "    </tr>\n",
              "  </tbody>\n",
              "</table>\n",
              "</div>"
            ],
            "text/plain": [
              "      Name    People    Area   BIP Currency\n",
              "0  Germany  82521653  357385  3466      EUR\n",
              "3    Italy  60501718  301338  1850      EUR"
            ]
          },
          "metadata": {
            "tags": []
          },
          "execution_count": 34
        }
      ]
    },
    {
      "cell_type": "markdown",
      "metadata": {
        "id": "-C_2yN9sUear"
      },
      "source": [
        "Show only name and Currency in a new data frame"
      ]
    },
    {
      "cell_type": "code",
      "metadata": {
        "colab": {
          "base_uri": "https://localhost:8080/"
        },
        "id": "OlMwM-m1Ufe_",
        "outputId": "ff68bdb6-b78e-4790-be2b-28fe796062ed"
      },
      "source": [
        "df2=df.drop(['People', 'Area','BIP'], axis=1)\n",
        "# or \n",
        "df3= df[[\"Name\",\"Currency\"]]\n",
        "\n",
        "print(df2)\n",
        "print(df3)"
      ],
      "execution_count": null,
      "outputs": [
        {
          "output_type": "stream",
          "text": [
            "       Name Currency\n",
            "0   Germany      EUR\n",
            "1     Japan      YEN\n",
            "2    Canada      CAD\n",
            "3     Italy      EUR\n",
            "4  Brazilia     REAL\n",
            "       Name Currency\n",
            "0   Germany      EUR\n",
            "1     Japan      YEN\n",
            "2    Canada      CAD\n",
            "3     Italy      EUR\n",
            "4  Brazilia     REAL\n"
          ],
          "name": "stdout"
        }
      ]
    },
    {
      "cell_type": "markdown",
      "metadata": {
        "id": "W1rl_EVRU09U"
      },
      "source": [
        "Show only the rows/countries that have more than 2000 BIP (it is in Milliarden USD Bruttoinlandsprodukt)"
      ]
    },
    {
      "cell_type": "code",
      "metadata": {
        "colab": {
          "base_uri": "https://localhost:8080/",
          "height": 111
        },
        "id": "ISS5d602U75h",
        "outputId": "25714199-b592-4638-80ee-7eaefc3ccd8c"
      },
      "source": [
        "df[df[\"BIP\"]>2000]"
      ],
      "execution_count": null,
      "outputs": [
        {
          "output_type": "execute_result",
          "data": {
            "text/html": [
              "<div>\n",
              "<style scoped>\n",
              "    .dataframe tbody tr th:only-of-type {\n",
              "        vertical-align: middle;\n",
              "    }\n",
              "\n",
              "    .dataframe tbody tr th {\n",
              "        vertical-align: top;\n",
              "    }\n",
              "\n",
              "    .dataframe thead th {\n",
              "        text-align: right;\n",
              "    }\n",
              "</style>\n",
              "<table border=\"1\" class=\"dataframe\">\n",
              "  <thead>\n",
              "    <tr style=\"text-align: right;\">\n",
              "      <th></th>\n",
              "      <th>Name</th>\n",
              "      <th>People</th>\n",
              "      <th>Area</th>\n",
              "      <th>BIP</th>\n",
              "      <th>Currency</th>\n",
              "    </tr>\n",
              "  </thead>\n",
              "  <tbody>\n",
              "    <tr>\n",
              "      <th>0</th>\n",
              "      <td>Germany</td>\n",
              "      <td>82521653</td>\n",
              "      <td>357385</td>\n",
              "      <td>3466</td>\n",
              "      <td>EUR</td>\n",
              "    </tr>\n",
              "    <tr>\n",
              "      <th>1</th>\n",
              "      <td>Japan</td>\n",
              "      <td>126045000</td>\n",
              "      <td>377835</td>\n",
              "      <td>4938</td>\n",
              "      <td>YEN</td>\n",
              "    </tr>\n",
              "  </tbody>\n",
              "</table>\n",
              "</div>"
            ],
            "text/plain": [
              "      Name     People    Area   BIP Currency\n",
              "0  Germany   82521653  357385  3466      EUR\n",
              "1    Japan  126045000  377835  4938      YEN"
            ]
          },
          "metadata": {
            "tags": []
          },
          "execution_count": 36
        }
      ]
    },
    {
      "cell_type": "markdown",
      "metadata": {
        "id": "K8KvVYqHWBQb"
      },
      "source": [
        "Select all countries where with inhabitants between 50 and 150 Mio"
      ]
    },
    {
      "cell_type": "code",
      "metadata": {
        "colab": {
          "base_uri": "https://localhost:8080/",
          "height": 142
        },
        "id": "iZ-0ssdlWCTJ",
        "outputId": "dfc494df-33ab-4883-d290-6b5c53c89c0a"
      },
      "source": [
        "df.query(\"People>50000000 and People<150000000\")"
      ],
      "execution_count": null,
      "outputs": [
        {
          "output_type": "execute_result",
          "data": {
            "text/html": [
              "<div>\n",
              "<style scoped>\n",
              "    .dataframe tbody tr th:only-of-type {\n",
              "        vertical-align: middle;\n",
              "    }\n",
              "\n",
              "    .dataframe tbody tr th {\n",
              "        vertical-align: top;\n",
              "    }\n",
              "\n",
              "    .dataframe thead th {\n",
              "        text-align: right;\n",
              "    }\n",
              "</style>\n",
              "<table border=\"1\" class=\"dataframe\">\n",
              "  <thead>\n",
              "    <tr style=\"text-align: right;\">\n",
              "      <th></th>\n",
              "      <th>Name</th>\n",
              "      <th>People</th>\n",
              "      <th>Area</th>\n",
              "      <th>BIP</th>\n",
              "      <th>Currency</th>\n",
              "    </tr>\n",
              "  </thead>\n",
              "  <tbody>\n",
              "    <tr>\n",
              "      <th>0</th>\n",
              "      <td>Germany</td>\n",
              "      <td>82521653</td>\n",
              "      <td>357385</td>\n",
              "      <td>3466</td>\n",
              "      <td>EUR</td>\n",
              "    </tr>\n",
              "    <tr>\n",
              "      <th>1</th>\n",
              "      <td>Japan</td>\n",
              "      <td>126045000</td>\n",
              "      <td>377835</td>\n",
              "      <td>4938</td>\n",
              "      <td>YEN</td>\n",
              "    </tr>\n",
              "    <tr>\n",
              "      <th>3</th>\n",
              "      <td>Italy</td>\n",
              "      <td>60501718</td>\n",
              "      <td>301338</td>\n",
              "      <td>1850</td>\n",
              "      <td>EUR</td>\n",
              "    </tr>\n",
              "  </tbody>\n",
              "</table>\n",
              "</div>"
            ],
            "text/plain": [
              "      Name     People    Area   BIP Currency\n",
              "0  Germany   82521653  357385  3466      EUR\n",
              "1    Japan  126045000  377835  4938      YEN\n",
              "3    Italy   60501718  301338  1850      EUR"
            ]
          },
          "metadata": {
            "tags": []
          },
          "execution_count": 41
        }
      ]
    },
    {
      "cell_type": "markdown",
      "metadata": {
        "id": "1i1HKfpBWCrr"
      },
      "source": [
        "Change BIP to Bip"
      ]
    },
    {
      "cell_type": "code",
      "metadata": {
        "colab": {
          "base_uri": "https://localhost:8080/",
          "height": 204
        },
        "id": "cU3Rmb41WK6f",
        "outputId": "3a644456-5527-4e05-eb42-ab531d41bb2d"
      },
      "source": [
        "df.rename(columns={\"BIP\":\"Bip\"})"
      ],
      "execution_count": null,
      "outputs": [
        {
          "output_type": "execute_result",
          "data": {
            "text/html": [
              "<div>\n",
              "<style scoped>\n",
              "    .dataframe tbody tr th:only-of-type {\n",
              "        vertical-align: middle;\n",
              "    }\n",
              "\n",
              "    .dataframe tbody tr th {\n",
              "        vertical-align: top;\n",
              "    }\n",
              "\n",
              "    .dataframe thead th {\n",
              "        text-align: right;\n",
              "    }\n",
              "</style>\n",
              "<table border=\"1\" class=\"dataframe\">\n",
              "  <thead>\n",
              "    <tr style=\"text-align: right;\">\n",
              "      <th></th>\n",
              "      <th>Name</th>\n",
              "      <th>People</th>\n",
              "      <th>Area</th>\n",
              "      <th>Bip</th>\n",
              "      <th>Currency</th>\n",
              "    </tr>\n",
              "  </thead>\n",
              "  <tbody>\n",
              "    <tr>\n",
              "      <th>0</th>\n",
              "      <td>Germany</td>\n",
              "      <td>82521653</td>\n",
              "      <td>357385</td>\n",
              "      <td>3466</td>\n",
              "      <td>EUR</td>\n",
              "    </tr>\n",
              "    <tr>\n",
              "      <th>1</th>\n",
              "      <td>Japan</td>\n",
              "      <td>126045000</td>\n",
              "      <td>377835</td>\n",
              "      <td>4938</td>\n",
              "      <td>YEN</td>\n",
              "    </tr>\n",
              "    <tr>\n",
              "      <th>2</th>\n",
              "      <td>Canada</td>\n",
              "      <td>36503097</td>\n",
              "      <td>9984670</td>\n",
              "      <td>1529</td>\n",
              "      <td>CAD</td>\n",
              "    </tr>\n",
              "    <tr>\n",
              "      <th>3</th>\n",
              "      <td>Italy</td>\n",
              "      <td>60501718</td>\n",
              "      <td>301338</td>\n",
              "      <td>1850</td>\n",
              "      <td>EUR</td>\n",
              "    </tr>\n",
              "    <tr>\n",
              "      <th>4</th>\n",
              "      <td>Brazilia</td>\n",
              "      <td>208360000</td>\n",
              "      <td>8515770</td>\n",
              "      <td>1798</td>\n",
              "      <td>REAL</td>\n",
              "    </tr>\n",
              "  </tbody>\n",
              "</table>\n",
              "</div>"
            ],
            "text/plain": [
              "       Name     People     Area   Bip Currency\n",
              "0   Germany   82521653   357385  3466      EUR\n",
              "1     Japan  126045000   377835  4938      YEN\n",
              "2    Canada   36503097  9984670  1529      CAD\n",
              "3     Italy   60501718   301338  1850      EUR\n",
              "4  Brazilia  208360000  8515770  1798     REAL"
            ]
          },
          "metadata": {
            "tags": []
          },
          "execution_count": 13
        }
      ]
    },
    {
      "cell_type": "markdown",
      "metadata": {
        "id": "RBUZR1AOWko9"
      },
      "source": [
        "Calculate the Bip sum"
      ]
    },
    {
      "cell_type": "code",
      "metadata": {
        "colab": {
          "base_uri": "https://localhost:8080/"
        },
        "id": "4z_rDuBqWlz1",
        "outputId": "be49cd26-e8dc-4747-a286-95d822d25a6f"
      },
      "source": [
        "BipSum=df[\"BIP\"].sum()\n",
        "print(BipSum)"
      ],
      "execution_count": null,
      "outputs": [
        {
          "output_type": "stream",
          "text": [
            "13581\n"
          ],
          "name": "stdout"
        }
      ]
    },
    {
      "cell_type": "markdown",
      "metadata": {
        "id": "ZUCOb4czYRUR"
      },
      "source": [
        "Calculate the average people of all countries"
      ]
    },
    {
      "cell_type": "code",
      "metadata": {
        "colab": {
          "base_uri": "https://localhost:8080/"
        },
        "id": "_NbtV6LiYSBa",
        "outputId": "6598a3e8-76c5-4b4c-fe6f-f3ae3281fbff"
      },
      "source": [
        "PeopleAverage=df[\"People\"].mean()\n",
        "print(PeopleAverage)"
      ],
      "execution_count": null,
      "outputs": [
        {
          "output_type": "stream",
          "text": [
            "102786293.6\n"
          ],
          "name": "stdout"
        }
      ]
    },
    {
      "cell_type": "markdown",
      "metadata": {
        "id": "AKfLg0xGYxcq"
      },
      "source": [
        "Sort by name alphabetically (by name) "
      ]
    },
    {
      "cell_type": "code",
      "metadata": {
        "colab": {
          "base_uri": "https://localhost:8080/"
        },
        "id": "TFCGYQChYyWY",
        "outputId": "7d23ee66-2158-4475-ed00-b474edfe9676"
      },
      "source": [
        "sortedDf=df.sort_values(\"Name\")\n",
        "print(sortedDf)"
      ],
      "execution_count": null,
      "outputs": [
        {
          "output_type": "stream",
          "text": [
            "       Name     People     Area   BIP Currency\n",
            "4  Brazilia  208360000  8515770  1798     REAL\n",
            "2    Canada   36503097  9984670  1529      CAD\n",
            "0   Germany   82521653   357385  3466      EUR\n",
            "3     Italy   60501718   301338  1850      EUR\n",
            "1     Japan  126045000   377835  4938      YEN\n"
          ],
          "name": "stdout"
        }
      ]
    },
    {
      "cell_type": "markdown",
      "metadata": {
        "id": "ynTafsRmZUfb"
      },
      "source": [
        "Create a new data frame from the original where the area is changed as follows: all countries with > 1000000 get BIG and <= 1000000 get SMALL in the cell replaced!"
      ]
    },
    {
      "cell_type": "code",
      "metadata": {
        "colab": {
          "base_uri": "https://localhost:8080/",
          "height": 204
        },
        "id": "kAjI7PaBqHNb",
        "outputId": "eb95ccf6-4a05-4896-fb58-048e715bd72b"
      },
      "source": [
        "\n",
        "newDF=df\n",
        "newDF.head()\n",
        "newDF.astype({\"Area\":\"float\"})\n",
        "\n"
      ],
      "execution_count": null,
      "outputs": [
        {
          "output_type": "execute_result",
          "data": {
            "text/html": [
              "<div>\n",
              "<style scoped>\n",
              "    .dataframe tbody tr th:only-of-type {\n",
              "        vertical-align: middle;\n",
              "    }\n",
              "\n",
              "    .dataframe tbody tr th {\n",
              "        vertical-align: top;\n",
              "    }\n",
              "\n",
              "    .dataframe thead th {\n",
              "        text-align: right;\n",
              "    }\n",
              "</style>\n",
              "<table border=\"1\" class=\"dataframe\">\n",
              "  <thead>\n",
              "    <tr style=\"text-align: right;\">\n",
              "      <th></th>\n",
              "      <th>Name</th>\n",
              "      <th>People</th>\n",
              "      <th>Area</th>\n",
              "      <th>BIP</th>\n",
              "      <th>Currency</th>\n",
              "    </tr>\n",
              "  </thead>\n",
              "  <tbody>\n",
              "    <tr>\n",
              "      <th>0</th>\n",
              "      <td>Germany</td>\n",
              "      <td>82521653</td>\n",
              "      <td>357385.0</td>\n",
              "      <td>3466</td>\n",
              "      <td>EUR</td>\n",
              "    </tr>\n",
              "    <tr>\n",
              "      <th>1</th>\n",
              "      <td>Japan</td>\n",
              "      <td>126045000</td>\n",
              "      <td>377835.0</td>\n",
              "      <td>4938</td>\n",
              "      <td>YEN</td>\n",
              "    </tr>\n",
              "    <tr>\n",
              "      <th>2</th>\n",
              "      <td>Canada</td>\n",
              "      <td>36503097</td>\n",
              "      <td>9984670.0</td>\n",
              "      <td>1529</td>\n",
              "      <td>CAD</td>\n",
              "    </tr>\n",
              "    <tr>\n",
              "      <th>3</th>\n",
              "      <td>Italy</td>\n",
              "      <td>60501718</td>\n",
              "      <td>301338.0</td>\n",
              "      <td>1850</td>\n",
              "      <td>EUR</td>\n",
              "    </tr>\n",
              "    <tr>\n",
              "      <th>4</th>\n",
              "      <td>Brazilia</td>\n",
              "      <td>208360000</td>\n",
              "      <td>8515770.0</td>\n",
              "      <td>1798</td>\n",
              "      <td>REAL</td>\n",
              "    </tr>\n",
              "  </tbody>\n",
              "</table>\n",
              "</div>"
            ],
            "text/plain": [
              "       Name     People       Area   BIP Currency\n",
              "0   Germany   82521653   357385.0  3466      EUR\n",
              "1     Japan  126045000   377835.0  4938      YEN\n",
              "2    Canada   36503097  9984670.0  1529      CAD\n",
              "3     Italy   60501718   301338.0  1850      EUR\n",
              "4  Brazilia  208360000  8515770.0  1798     REAL"
            ]
          },
          "metadata": {
            "tags": []
          },
          "execution_count": 120
        }
      ]
    },
    {
      "cell_type": "code",
      "metadata": {
        "colab": {
          "base_uri": "https://localhost:8080/"
        },
        "id": "8HWd_of7t5iv",
        "outputId": "58f6400c-3f93-42a3-93dd-3cfea1ba3737"
      },
      "source": [
        "newDF['Area'] = np.where(newDF['Area']<= 1000000, \"SMALL\", \"BIG\") \n",
        "print(newDF)\n",
        "  "
      ],
      "execution_count": null,
      "outputs": [
        {
          "output_type": "stream",
          "text": [
            "       Name     People   Area   BIP Currency\n",
            "0   Germany   82521653  SMALL  3466      EUR\n",
            "1     Japan  126045000  SMALL  4938      YEN\n",
            "2    Canada   36503097    BIG  1529      CAD\n",
            "3     Italy   60501718  SMALL  1850      EUR\n",
            "4  Brazilia  208360000    BIG  1798     REAL\n"
          ],
          "name": "stdout"
        }
      ]
    }
  ]
}