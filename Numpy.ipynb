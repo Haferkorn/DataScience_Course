{
  "nbformat": 4,
  "nbformat_minor": 0,
  "metadata": {
    "colab": {
      "name": "Numpy.ipynb",
      "provenance": [],
      "include_colab_link": true
    },
    "kernelspec": {
      "name": "python3",
      "display_name": "Python 3"
    },
    "language_info": {
      "name": "python"
    }
  },
  "cells": [
    {
      "cell_type": "markdown",
      "metadata": {
        "id": "view-in-github",
        "colab_type": "text"
      },
      "source": [
        "<a href=\"https://colab.research.google.com/github/Haferkorn/DataScience_Portfolio/blob/main/Numpy.ipynb\" target=\"_parent\"><img src=\"https://colab.research.google.com/assets/colab-badge.svg\" alt=\"Open In Colab\"/></a>"
      ]
    },
    {
      "cell_type": "markdown",
      "metadata": {
        "id": "JNHLqd5Ld_oy"
      },
      "source": [
        "**Exercise 1**: from 101 Numpy Exercises: Import numpy as np and see the version"
      ]
    },
    {
      "cell_type": "code",
      "metadata": {
        "colab": {
          "base_uri": "https://localhost:8080/"
        },
        "id": "ILKMiZmncAX1",
        "outputId": "fc70e2fa-5171-4a48-ddb3-f2612d314588"
      },
      "source": [
        "import numpy as np\n",
        "print(np.__version__)"
      ],
      "execution_count": null,
      "outputs": [
        {
          "output_type": "stream",
          "text": [
            "1.19.5\n"
          ],
          "name": "stdout"
        }
      ]
    },
    {
      "cell_type": "markdown",
      "metadata": {
        "id": "kaSkOXnDeMD4"
      },
      "source": [
        "**Exercise 2**: from 101 Numpy Exercises: How to create a 1D array?"
      ]
    },
    {
      "cell_type": "code",
      "metadata": {
        "colab": {
          "base_uri": "https://localhost:8080/"
        },
        "id": "7yx-cTtNeUXC",
        "outputId": "9df812ed-44e4-4722-9553-eec74ee8e11f"
      },
      "source": [
        "list=[1,2,3,4,5]\n",
        "arrd1=np.array(list)\n",
        "#or\n",
        "a = np.array([1,2,3,4,5], dtype='int32')\n",
        "print(type(arrd1))\n",
        "print(arrd1)\n",
        "print(a)"
      ],
      "execution_count": null,
      "outputs": [
        {
          "output_type": "stream",
          "text": [
            "<class 'numpy.ndarray'>\n",
            "[1 2 3 4 5]\n",
            "[1 2 3 4 5]\n"
          ],
          "name": "stdout"
        }
      ]
    },
    {
      "cell_type": "markdown",
      "metadata": {
        "id": "bRmIrhLgetVP"
      },
      "source": [
        "**Exercise 3:** from 101 Numpy Exercises: How to create a boolean array? \n",
        "Q. Create a 3×3 numpy array of all True’s\n"
      ]
    },
    {
      "cell_type": "code",
      "metadata": {
        "colab": {
          "base_uri": "https://localhost:8080/"
        },
        "id": "5IrCENeCe0Qx",
        "outputId": "8ad0da21-14b2-4703-d96c-095b8b2a0bd4"
      },
      "source": [
        "\n",
        "\n",
        "list2=[[True],[True],[True]]\n",
        "arrd3=np.array(list2)\n",
        "# Or \n",
        "arr1d= np.full((3, 3), True, dtype=bool)\n",
        "\n",
        "print(arrd3)"
      ],
      "execution_count": null,
      "outputs": [
        {
          "output_type": "stream",
          "text": [
            "[[ True]\n",
            " [ True]\n",
            " [ True]]\n"
          ],
          "name": "stdout"
        }
      ]
    },
    {
      "cell_type": "markdown",
      "metadata": {
        "id": "T1CQb7AkMIWb"
      },
      "source": [
        "**Exercise 4:**  How to extract items that satisfy a given condition from 1D array? Q. Extract all odd numbers from arr"
      ]
    },
    {
      "cell_type": "code",
      "metadata": {
        "colab": {
          "base_uri": "https://localhost:8080/"
        },
        "id": "tej612rWMOxX",
        "outputId": "e93878a3-e32c-4c4f-b797-d201317ae75a"
      },
      "source": [
        "arr = np.array([0, 1, 2, 3, 4, 5, 6, 7, 8, 9])\n",
        "arr2=arr[arr % 2 == 1]\n",
        "print(arr)\n"
      ],
      "execution_count": null,
      "outputs": [
        {
          "output_type": "stream",
          "text": [
            "[0 1 2 3 4 5 6 7 8 9]\n"
          ],
          "name": "stdout"
        }
      ]
    },
    {
      "cell_type": "markdown",
      "metadata": {
        "id": "HaCecLVcOj9L"
      },
      "source": [
        "**Exercise 5:** How to replace items that satisfy a condition with another value in numpy array?  Replace all odd numbers in arr with -1"
      ]
    },
    {
      "cell_type": "code",
      "metadata": {
        "colab": {
          "base_uri": "https://localhost:8080/"
        },
        "id": "1OAqfhw5Ot7n",
        "outputId": "d2b11b46-8c09-49d8-ac29-4dd939ecd3eb"
      },
      "source": [
        "arr=np.array([1,2,3,4,5,6,7,8,9,10])\n",
        "arr[arr % 2 == 1] = -1\n",
        "\n",
        "print(arr)"
      ],
      "execution_count": null,
      "outputs": [
        {
          "output_type": "stream",
          "text": [
            "[-1  2 -1  4 -1  6 -1  8 -1 10]\n"
          ],
          "name": "stdout"
        }
      ]
    },
    {
      "cell_type": "markdown",
      "metadata": {
        "id": "I8kXR8SeUPn9"
      },
      "source": [
        "**Exercise 6**: How to replace items that satisfy a condition without affecting the original array?\n",
        "\n",
        "Q. Replace all odd numbers in arr with -1 without changing *arr*"
      ]
    },
    {
      "cell_type": "code",
      "metadata": {
        "colab": {
          "base_uri": "https://localhost:8080/"
        },
        "id": "LOtYBigHUXrf",
        "outputId": "0665ffab-22b8-4cd0-a610-e535b03f3332"
      },
      "source": [
        "arr=np.array([1,2,3,4,5,6,7,8,9,10])\n",
        "out = np.where(arr % 2 == 1, -1, arr)\n",
        "print(arr)\n",
        "print(out)"
      ],
      "execution_count": null,
      "outputs": [
        {
          "output_type": "stream",
          "text": [
            "[ 1  2  3  4  5  6  7  8  9 10]\n",
            "[ 3  2  3  4  3  6  3  8  3 10]\n"
          ],
          "name": "stdout"
        }
      ]
    },
    {
      "cell_type": "markdown",
      "metadata": {
        "id": "zDzYRemmV8DS"
      },
      "source": [
        "**Exerice 7**: How to reshape an array?\n",
        "\n",
        "Q. Convert a 1D array to a 2D array with 2 rows"
      ]
    },
    {
      "cell_type": "code",
      "metadata": {
        "colab": {
          "base_uri": "https://localhost:8080/"
        },
        "id": "30gj7qL3WD0F",
        "outputId": "cfdb6f08-d4a9-4a19-fea5-14f42d61b779"
      },
      "source": [
        "arr.shape\n",
        "arrd2=arr.reshape(2,-1)\n",
        "print(arrd2)"
      ],
      "execution_count": null,
      "outputs": [
        {
          "output_type": "stream",
          "text": [
            "[[ 1  2  3  4  5]\n",
            " [ 6  7  8  9 10]]\n"
          ],
          "name": "stdout"
        }
      ]
    },
    {
      "cell_type": "markdown",
      "metadata": {
        "id": "daH7-trIW5zS"
      },
      "source": [
        "**Exercise 8: ** How to stack two arrays vertically? \n",
        "Q. Stack arrays a and b vertically"
      ]
    },
    {
      "cell_type": "code",
      "metadata": {
        "colab": {
          "base_uri": "https://localhost:8080/"
        },
        "id": "4lCueVeeXDOb",
        "outputId": "bd23a16d-1882-4b94-af34-fff488f730b2"
      },
      "source": [
        "a = np.arange(10).reshape(2,-1)\n",
        "b = np.repeat(1, 10).reshape(2,-1)\n",
        "\n",
        "\n",
        "np.concatenate([a, b], axis=0)"
      ],
      "execution_count": null,
      "outputs": [
        {
          "output_type": "execute_result",
          "data": {
            "text/plain": [
              "array([[0, 1, 2, 3, 4],\n",
              "       [5, 6, 7, 8, 9],\n",
              "       [1, 1, 1, 1, 1],\n",
              "       [1, 1, 1, 1, 1]])"
            ]
          },
          "metadata": {
            "tags": []
          },
          "execution_count": 50
        }
      ]
    },
    {
      "cell_type": "markdown",
      "metadata": {
        "id": "u_iwu8yTXldb"
      },
      "source": [
        "**Exercise 9** :How to stack two arrays horizontally? Stack the arrays a and b horizontally."
      ]
    },
    {
      "cell_type": "code",
      "metadata": {
        "colab": {
          "base_uri": "https://localhost:8080/"
        },
        "id": "SycjaA2UXs-M",
        "outputId": "78e996af-8791-48ec-824c-053a1e6edf3c"
      },
      "source": [
        "a = np.arange(10).reshape(2,-1)\n",
        "\n",
        "b = np.repeat(1, 10).reshape(2,-1)\n",
        "np.concatenate([a, b], axis=1)"
      ],
      "execution_count": null,
      "outputs": [
        {
          "output_type": "execute_result",
          "data": {
            "text/plain": [
              "array([[0, 1, 2, 3, 4, 1, 1, 1, 1, 1],\n",
              "       [5, 6, 7, 8, 9, 1, 1, 1, 1, 1]])"
            ]
          },
          "metadata": {
            "tags": []
          },
          "execution_count": 51
        }
      ]
    },
    {
      "cell_type": "markdown",
      "metadata": {
        "id": "CNTfupRoX2xH"
      },
      "source": [
        "**Exercise 10**: How to generate custom sequences in numpy without hardcoding? Create the following pattern without hardcoding. Use only numpy functions and the below input array a."
      ]
    },
    {
      "cell_type": "code",
      "metadata": {
        "colab": {
          "base_uri": "https://localhost:8080/"
        },
        "id": "vUoqbTe6X-iu",
        "outputId": "26784211-1636-4eea-a436-d76adff62437"
      },
      "source": [
        "a = np.array([1,2,3])\n",
        "np.r_[np.repeat(a, 3), np.tile(a, 3)]\n",
        "             "
      ],
      "execution_count": null,
      "outputs": [
        {
          "output_type": "execute_result",
          "data": {
            "text/plain": [
              "array([1, 1, 1, 2, 2, 2, 3, 3, 3, 1, 2, 3, 1, 2, 3, 1, 2, 3])"
            ]
          },
          "metadata": {
            "tags": []
          },
          "execution_count": 56
        }
      ]
    },
    {
      "cell_type": "markdown",
      "metadata": {
        "id": "QRHuf4w7YhL6"
      },
      "source": [
        "**Exercise 11** : How to get the common items between two python numpy arrays? Get the common items between a and b"
      ]
    },
    {
      "cell_type": "code",
      "metadata": {
        "colab": {
          "base_uri": "https://localhost:8080/"
        },
        "id": "lsx8J3QeYmiu",
        "outputId": "b4218682-146b-455f-8448-af4ac0cdba1a"
      },
      "source": [
        "a = np.array([1,2,3,2,3,4,3,4,5,6])\n",
        "b = np.array([7,2,10,2,7,4,9,4,9,8])\n",
        "np.intersect1d(a,b)"
      ],
      "execution_count": null,
      "outputs": [
        {
          "output_type": "execute_result",
          "data": {
            "text/plain": [
              "array([2, 4])"
            ]
          },
          "metadata": {
            "tags": []
          },
          "execution_count": 57
        }
      ]
    },
    {
      "cell_type": "markdown",
      "metadata": {
        "id": "gCGTAharaelT"
      },
      "source": [
        "**Exercise 12**: How to remove from one array those items that exist in another?"
      ]
    },
    {
      "cell_type": "code",
      "metadata": {
        "colab": {
          "base_uri": "https://localhost:8080/"
        },
        "id": "nOfMAoYCaiYZ",
        "outputId": "a1f92849-2bb5-4983-c164-53d5b72236df"
      },
      "source": [
        "# From 'a' remove all of 'b'\n",
        "np.setdiff1d(a,b)"
      ],
      "execution_count": null,
      "outputs": [
        {
          "output_type": "execute_result",
          "data": {
            "text/plain": [
              "array([1, 3, 5, 6])"
            ]
          },
          "metadata": {
            "tags": []
          },
          "execution_count": 59
        }
      ]
    },
    {
      "cell_type": "markdown",
      "metadata": {
        "id": "vfKEyfJfbiHJ"
      },
      "source": [
        "**Exercise 13**: How to get the positions where elements of two arrays match?"
      ]
    },
    {
      "cell_type": "code",
      "metadata": {
        "colab": {
          "base_uri": "https://localhost:8080/"
        },
        "id": "0iRXYvKRbmUA",
        "outputId": "a9f25807-e798-41bf-a19d-dfc101edc0f3"
      },
      "source": [
        "np.where(a == b)"
      ],
      "execution_count": null,
      "outputs": [
        {
          "output_type": "execute_result",
          "data": {
            "text/plain": [
              "(array([1, 3, 5, 7]),)"
            ]
          },
          "metadata": {
            "tags": []
          },
          "execution_count": 58
        }
      ]
    },
    {
      "cell_type": "markdown",
      "metadata": {
        "id": "3un8VVuEbwbi"
      },
      "source": [
        "**Exercise 14**: How to extract all numbers between a given range from a numpy array?"
      ]
    },
    {
      "cell_type": "code",
      "metadata": {
        "colab": {
          "base_uri": "https://localhost:8080/"
        },
        "id": "2ubmiYfob5vL",
        "outputId": "ccd9aab6-1bfe-4387-e0a6-f237acee3cb8"
      },
      "source": [
        "c=np.arange(15)\n",
        "index = np.where(np.logical_and(c>=5, c<=10))\n",
        "c[index]"
      ],
      "execution_count": null,
      "outputs": [
        {
          "output_type": "execute_result",
          "data": {
            "text/plain": [
              "array([ 5,  6,  7,  8,  9, 10])"
            ]
          },
          "metadata": {
            "tags": []
          },
          "execution_count": 61
        }
      ]
    },
    {
      "cell_type": "markdown",
      "metadata": {
        "id": "_c2TmUkscTCp"
      },
      "source": [
        "**Exercise 15**: How to make a python function that handles scalars to work on numpy arrays?"
      ]
    },
    {
      "cell_type": "code",
      "metadata": {
        "id": "n6scPmxBcYaX"
      },
      "source": [
        "def maxx(x, y):\n",
        "    \"\"\"Get the maximum of two items\"\"\"\n",
        "    if x >= y:\n",
        "        return x\n",
        "    else:\n",
        "        return y\n",
        "\n",
        "pair_max = np.vectorize(maxx, otypes=[float])\n",
        "\n",
        "a = np.array([5, 7, 9, 8, 6, 4, 5])\n",
        "b = np.array([6, 3, 4, 8, 9, 7, 1])\n",
        "\n",
        "pair_max(a, b)"
      ],
      "execution_count": null,
      "outputs": []
    },
    {
      "cell_type": "markdown",
      "metadata": {
        "id": "BnQ4RgzlclpH"
      },
      "source": [
        "**Exercise 16**: How to swap two columns in a 2d numpy array?"
      ]
    },
    {
      "cell_type": "code",
      "metadata": {
        "colab": {
          "base_uri": "https://localhost:8080/"
        },
        "id": "mz24x9c5cqm3",
        "outputId": "33987bdf-7921-4630-9e7a-bf9247668313"
      },
      "source": [
        "# Input\n",
        "arr = np.arange(9).reshape(3,3)\n",
        "arr\n",
        "\n",
        "# Solution\n",
        "arr[:, [1,0,2]]"
      ],
      "execution_count": null,
      "outputs": [
        {
          "output_type": "execute_result",
          "data": {
            "text/plain": [
              "array([[1, 0, 2],\n",
              "       [4, 3, 5],\n",
              "       [7, 6, 8]])"
            ]
          },
          "metadata": {
            "tags": []
          },
          "execution_count": 62
        }
      ]
    },
    {
      "cell_type": "markdown",
      "metadata": {
        "id": "gnQx8qdscxXd"
      },
      "source": [
        "**Exercise 17**: How to swap two rows in a 2d numpy array?"
      ]
    },
    {
      "cell_type": "code",
      "metadata": {
        "colab": {
          "base_uri": "https://localhost:8080/"
        },
        "id": "YKnk5Y6Gc-8V",
        "outputId": "5998e865-0ca2-417c-af1f-f469b3c82f15"
      },
      "source": [
        "# Input\n",
        "arr = np.arange(9).reshape(3,3)\n",
        "\n",
        "# Solution\n",
        "arr[[1,0,2], :]"
      ],
      "execution_count": null,
      "outputs": [
        {
          "output_type": "execute_result",
          "data": {
            "text/plain": [
              "array([[3, 4, 5],\n",
              "       [0, 1, 2],\n",
              "       [6, 7, 8]])"
            ]
          },
          "metadata": {
            "tags": []
          },
          "execution_count": 64
        }
      ]
    },
    {
      "cell_type": "markdown",
      "metadata": {
        "id": "bytjWwmldNqE"
      },
      "source": [
        "**Exercise 18**: How to reverse the rows of a 2D array?"
      ]
    },
    {
      "cell_type": "code",
      "metadata": {
        "id": "sxP91RqedTSu"
      },
      "source": [
        "# Input\n",
        "arr = np.arange(9).reshape(3,3)\n",
        "\n",
        "# Solution\n",
        "arr[::-1]"
      ],
      "execution_count": null,
      "outputs": []
    },
    {
      "cell_type": "markdown",
      "metadata": {
        "id": "1CT-zdd6dWdQ"
      },
      "source": [
        "**Exercise 19**: How to reverse the columns of a 2D array?"
      ]
    },
    {
      "cell_type": "code",
      "metadata": {
        "id": "lWmNdzRSeHAT"
      },
      "source": [
        "# Input\n",
        "arr = np.arange(9).reshape(3,3)\n",
        "\n",
        "# Solution\n",
        "arr[:, ::-1]"
      ],
      "execution_count": null,
      "outputs": []
    },
    {
      "cell_type": "markdown",
      "metadata": {
        "id": "GyiSVL4Lep1K"
      },
      "source": [
        "**Exercise 20**: How to create a 2D array containing random floats between 5 and 10?"
      ]
    },
    {
      "cell_type": "code",
      "metadata": {
        "id": "ciA7xHRYeujN"
      },
      "source": [
        "arr = np.arange(9).reshape(3,3)\n",
        "\n",
        "# Solution Method 1:\n",
        "rand_arr = np.random.randint(low=5, high=10, size=(5,3)) + np.random.random((5,3))"
      ],
      "execution_count": null,
      "outputs": []
    },
    {
      "cell_type": "markdown",
      "metadata": {
        "id": "YzI7CQF2fOXx"
      },
      "source": [
        "**Exercise 21**:  How to print only 3 decimal places in python numpy array?"
      ]
    },
    {
      "cell_type": "code",
      "metadata": {
        "colab": {
          "base_uri": "https://localhost:8080/"
        },
        "id": "6fxA-K2jfT34",
        "outputId": "14de4a0a-7a7c-4f67-8a1b-ce08df0080b9"
      },
      "source": [
        "# Input\n",
        "rand_arr = np.random.random((5,3))\n",
        "\n",
        "# Create the random array\n",
        "rand_arr = np.random.random([5,3])\n",
        "\n",
        "# Limit to 3 decimal places\n",
        "np.set_printoptions(precision=3)\n",
        "rand_arr[:4]"
      ],
      "execution_count": null,
      "outputs": [
        {
          "output_type": "execute_result",
          "data": {
            "text/plain": [
              "array([[0.3  , 0.907, 0.785],\n",
              "       [0.731, 0.751, 0.05 ],\n",
              "       [0.072, 0.869, 0.996],\n",
              "       [0.472, 0.737, 0.279]])"
            ]
          },
          "metadata": {
            "tags": []
          },
          "execution_count": 4
        }
      ]
    },
    {
      "cell_type": "markdown",
      "metadata": {
        "id": "qDjXMOflfd9b"
      },
      "source": [
        "**Exercise 22**: How to pretty print a numpy array by suppressing the scientific notation (like 1e10)?"
      ]
    },
    {
      "cell_type": "code",
      "metadata": {
        "id": "ieGnRkhQfjS5"
      },
      "source": [
        "# Reset printoptions to default\n",
        "np.set_printoptions(suppress=False)\n",
        "\n",
        "# Create the random array\n",
        "np.random.seed(100)\n",
        "rand_arr = np.random.random([3,3])/1e3\n",
        "rand_arr"
      ],
      "execution_count": null,
      "outputs": []
    },
    {
      "cell_type": "markdown",
      "metadata": {
        "id": "uwE-5xcKfpEJ"
      },
      "source": [
        "**Exercise 23**: How to limit the number of items printed in output of numpy array?"
      ]
    },
    {
      "cell_type": "code",
      "metadata": {
        "colab": {
          "base_uri": "https://localhost:8080/"
        },
        "id": "6dvh5Wdvfv-6",
        "outputId": "47d26426-b47a-430c-d0c8-dda978211107"
      },
      "source": [
        "np.set_printoptions(threshold=6)\n",
        "a = np.arange(15)\n",
        "a"
      ],
      "execution_count": null,
      "outputs": [
        {
          "output_type": "execute_result",
          "data": {
            "text/plain": [
              "array([ 0,  1,  2, ..., 12, 13, 14])"
            ]
          },
          "metadata": {
            "tags": []
          },
          "execution_count": 5
        }
      ]
    },
    {
      "cell_type": "markdown",
      "metadata": {
        "id": "mZIcmZTwf2Ia"
      },
      "source": [
        "**Exercise 24**: How to print the full numpy array without truncating"
      ]
    },
    {
      "cell_type": "code",
      "metadata": {
        "id": "Z3wQ8Lwif6-A"
      },
      "source": [
        "# Input\n",
        "np.set_printoptions(threshold=6)\n",
        "a = np.arange(15)\n",
        "\n",
        "# Solution\n",
        "np.set_printoptions(threshold=np.nan)\n",
        "a"
      ],
      "execution_count": null,
      "outputs": []
    },
    {
      "cell_type": "markdown",
      "metadata": {
        "id": "yO530jNsgATP"
      },
      "source": [
        "**Exercise 25**: How to import a dataset with numbers and texts keeping the text intact in python numpy?"
      ]
    },
    {
      "cell_type": "code",
      "metadata": {
        "colab": {
          "base_uri": "https://localhost:8080/"
        },
        "id": "E9RvWpDhgFid",
        "outputId": "e3a671e5-beba-450d-ef4a-00d3cad23b3b"
      },
      "source": [
        "# Solution\n",
        "url = 'https://archive.ics.uci.edu/ml/machine-learning-databases/iris/iris.data'\n",
        "iris = np.genfromtxt(url, delimiter=',', dtype='object')\n",
        "names = ('sepallength', 'sepalwidth', 'petallength', 'petalwidth', 'species')\n",
        "\n",
        "# Print the first 3 rows\n",
        "iris[:3]"
      ],
      "execution_count": null,
      "outputs": [
        {
          "output_type": "execute_result",
          "data": {
            "text/plain": [
              "array([[b'5.1', b'3.5', b'1.4', b'0.2', b'Iris-setosa'],\n",
              "       [b'4.9', b'3.0', b'1.4', b'0.2', b'Iris-setosa'],\n",
              "       [b'4.7', b'3.2', b'1.3', b'0.2', b'Iris-setosa']], dtype=object)"
            ]
          },
          "metadata": {
            "tags": []
          },
          "execution_count": 6
        }
      ]
    }
  ]
}