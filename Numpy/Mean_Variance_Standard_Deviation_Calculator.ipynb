{
  "nbformat": 4,
  "nbformat_minor": 0,
  "metadata": {
    "colab": {
      "name": "Mean-Variance-Standard Deviation Calculator.ipynb",
      "provenance": []
    },
    "kernelspec": {
      "name": "python3",
      "display_name": "Python 3"
    },
    "language_info": {
      "name": "python"
    }
  },
  "cells": [
    {
      "cell_type": "markdown",
      "metadata": {
        "id": "Yrx6MHz1LLfC"
      },
      "source": [
        "# Mean-Variance-Standard Deviation Calculator: EX1 FreeCodeCamp "
      ]
    },
    {
      "cell_type": "markdown",
      "metadata": {
        "id": "3PiZCcfLLWx-"
      },
      "source": [
        "Create a function that uses Numpy to output the mean, variance, and standard deviation of the rows, columns, and elements in a 3 x 3 matrix."
      ]
    },
    {
      "cell_type": "code",
      "metadata": {
        "id": "kEZL1HoZ1A1F"
      },
      "source": [
        "import numpy as np"
      ],
      "execution_count": 79,
      "outputs": []
    },
    {
      "cell_type": "code",
      "metadata": {
        "id": "_u4WbFJv1JGm"
      },
      "source": [
        "liste=[0,1,2,3,4,5,6,7,8]\n",
        "dic={\"mean\":{},\"sum\":{},\"min\":{},\"max\":{},\"variance\":{},\"std\":{}\n",
        "}"
      ],
      "execution_count": 160,
      "outputs": []
    },
    {
      "cell_type": "code",
      "metadata": {
        "id": "TamPy6Gt1M2N"
      },
      "source": [
        "def calculate(list):\n",
        "  #transform list to numpy array\n",
        "  if len(list)==9:\n",
        "   a=np.array(list)\n",
        "   b = a.reshape(3,3)\n",
        "  else: \n",
        "    print(\"List must contain 9 numbers\")\n",
        "\n",
        "  return b"
      ],
      "execution_count": 81,
      "outputs": []
    },
    {
      "cell_type": "code",
      "metadata": {
        "id": "5U2Td_xR1d2G"
      },
      "source": [
        "def calculate_for_rows(list):\n",
        "  arr=calculate(list)\n",
        "  for i in range(0,3):\n",
        "    mean=\"Mean of row: \"+str(i+1)\n",
        "    sum=\"Sum of row: \"+str(i+1)\n",
        "    min=\"Min of row: \"+str(i+1)\n",
        "    max=\"Max of row: \"+str(i+1)\n",
        "    variance=\"Variance of row: \"+str(i+1)\n",
        "    std=\"Std of row: \"+str(i+1)\n",
        "    dic[\"mean\"].update({mean: arr[i].mean()})\n",
        "    dic[\"sum\"].update({sum:arr[:,i].sum()})\n",
        "    dic[\"min\"].update({min:arr[:,i].min()})\n",
        "    dic[\"max\"].update({max:arr[:,i].max()})\n",
        "    dic[\"variance\"].update({variance:arr[:,i].var()})\n",
        "    dic[\"std\"].update({std:arr[:,i].std()})\n",
        "  return dic"
      ],
      "execution_count": 138,
      "outputs": []
    },
    {
      "cell_type": "code",
      "metadata": {
        "id": "_BZ3P__u-EOD"
      },
      "source": [
        "def calculate_for_columns(list):\n",
        "  arr=calculate(list)\n",
        "  for i in range(0,3):\n",
        "    mean=\"Mean of colum: \"+str(i+1)\n",
        "    sum=\"Sum of column: \"+str(i+1)\n",
        "    min=\"Min of column: \"+str(i+1)\n",
        "    max=\"Max of column: \"+str(i+1)\n",
        "    variance=\"Variance of column: \"+str(i+1)\n",
        "    std=\"Std of column: \"+str(i+1)\n",
        "    dic[\"mean\"].update({mean:arr[:,i].mean()})\n",
        "    dic[\"sum\"].update({sum:arr[:,i].sum()})\n",
        "    dic[\"min\"].update({min:arr[:,i].min()})\n",
        "    dic[\"max\"].update({max:arr[:,i].max()})\n",
        "    dic[\"variance\"].update({variance:arr[:,i].var()})\n",
        "    dic[\"std\"].update({std:arr[:,i].std()})\n",
        "\n",
        "  return dic\n",
        " "
      ],
      "execution_count": 142,
      "outputs": []
    },
    {
      "cell_type": "code",
      "metadata": {
        "id": "SHTJttypJTP0"
      },
      "source": [
        "def calculate_for_flattern(list):\n",
        "  arr=calculate(list).flatten()\n",
        "  mean=\"Mean of flatten\"\n",
        "  sum=\"Sum of flatten\"\n",
        "  min=\"Min of flatten\"\n",
        "  max=\"Max of flatten\"\n",
        "  variance=\"Variance of flatten\"\n",
        "  std=\"Std of flatten\"\n",
        "  dic[\"mean\"].update({mean:arr.mean()})\n",
        "  dic[\"sum\"].update({sum:arr.sum()})\n",
        "  dic[\"min\"].update({min:arr.min()})\n",
        "  dic[\"max\"].update({max:arr.max()})\n",
        "  dic[\"variance\"].update({variance:arr.var()})\n",
        "  dic[\"std\"].update({std:arr.std()})\n",
        "  return dic\n",
        "  \n",
        "\n",
        "  \n"
      ],
      "execution_count": 162,
      "outputs": []
    },
    {
      "cell_type": "code",
      "metadata": {
        "colab": {
          "base_uri": "https://localhost:8080/"
        },
        "id": "fE6msl2e1XiD",
        "outputId": "55a49196-b094-4efe-c599-efdfd0df944e"
      },
      "source": [
        "calculate_for_rows(liste)\n",
        "calculate_for_columns(liste)\n",
        "calculate_for_flattern(liste)"
      ],
      "execution_count": 161,
      "outputs": [
        {
          "output_type": "execute_result",
          "data": {
            "text/plain": [
              "{'max': {'Max of column: 1': 6,\n",
              "  'Max of column: 2': 7,\n",
              "  'Max of column: 3': 8,\n",
              "  'Max of flatten': 8,\n",
              "  'Max of row: 1': 6,\n",
              "  'Max of row: 2': 7,\n",
              "  'Max of row: 3': 8},\n",
              " 'mean': {'Mean of colum: 1': 3.0,\n",
              "  'Mean of colum: 2': 4.0,\n",
              "  'Mean of colum: 3': 5.0,\n",
              "  'Mean of flatten': 4.0,\n",
              "  'Mean of row: 1': 1.0,\n",
              "  'Mean of row: 2': 4.0,\n",
              "  'Mean of row: 3': 7.0},\n",
              " 'min': {'Min of column: 1': 0,\n",
              "  'Min of column: 2': 1,\n",
              "  'Min of column: 3': 2,\n",
              "  'Min of flatten': 0,\n",
              "  'Min of row: 1': 0,\n",
              "  'Min of row: 2': 1,\n",
              "  'Min of row: 3': 2},\n",
              " 'std': {'Std of column: 1': 2.449489742783178,\n",
              "  'Std of column: 2': 2.449489742783178,\n",
              "  'Std of column: 3': 2.449489742783178,\n",
              "  'Std of flatten': 2.581988897471611},\n",
              " 'sum': {'Sum of column: 1': 9,\n",
              "  'Sum of column: 2': 12,\n",
              "  'Sum of column: 3': 15,\n",
              "  'Sum of flatten': 36,\n",
              "  'Sum of row: 1': 9,\n",
              "  'Sum of row: 2': 12,\n",
              "  'Sum of row: 3': 15},\n",
              " 'variance': {'Variance of column: 1': 6.0,\n",
              "  'Variance of column: 2': 6.0,\n",
              "  'Variance of column: 3': 6.0,\n",
              "  'Variance of flatten': 6.666666666666667}}"
            ]
          },
          "metadata": {
            "tags": []
          },
          "execution_count": 161
        }
      ]
    }
  ]
}